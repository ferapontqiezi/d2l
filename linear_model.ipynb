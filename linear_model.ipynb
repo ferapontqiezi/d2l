{
 "cells": [
  {
   "cell_type": "markdown",
   "source": [
    "# 生成数据集"
   ],
   "metadata": {
    "collapsed": false
   },
   "id": "208db795939fe193"
  },
  {
   "cell_type": "code",
   "execution_count": 21,
   "id": "initial_id",
   "metadata": {
    "collapsed": true,
    "ExecuteTime": {
     "end_time": "2023-11-16T07:40:55.726941700Z",
     "start_time": "2023-11-16T07:40:55.684943Z"
    }
   },
   "outputs": [],
   "source": [
    "import numpy as np\n",
    "import torch\n",
    "from torch.utils import data\n",
    "\n",
    "def synthetic_data(w, b, num_examples):  #@save\n",
    "    \"\"\"生成y=Xw+b+噪声\"\"\"\n",
    "    X = torch.normal(0, 1, (num_examples, len(w)))\n",
    "    y = torch.matmul(X, w) + b\n",
    "    y += torch.normal(0, 0.01, y.shape)\n",
    "    return X, y.reshape((-1, 1))\n",
    "\n",
    "true_w = torch.tensor([2, -3.4])\n",
    "true_b = 4.2\n",
    "features, labels = synthetic_data(true_w, true_b, 1000)\n"
   ]
  },
  {
   "cell_type": "markdown",
   "source": [
    "# 读取数据集"
   ],
   "metadata": {
    "collapsed": false
   },
   "id": "231030e6776c10a5"
  },
  {
   "cell_type": "code",
   "execution_count": 22,
   "outputs": [],
   "source": [
    "def load_array(data_arrays, batch_size, is_train=True):  #@save\n",
    "    \"\"\"构造一个PyTorch数据迭代器\"\"\"\n",
    "    dataset = data.TensorDataset(*data_arrays)\n",
    "    return data.DataLoader(dataset, batch_size, shuffle=is_train)\n",
    "\n",
    "batch_size = 10\n",
    "data_iter = load_array((features, labels), batch_size)\n"
   ],
   "metadata": {
    "collapsed": false,
    "ExecuteTime": {
     "end_time": "2023-11-16T07:40:55.788520Z",
     "start_time": "2023-11-16T07:40:55.700941100Z"
    }
   },
   "id": "546672ac2fa915f2"
  },
  {
   "cell_type": "code",
   "execution_count": 23,
   "outputs": [
    {
     "data": {
      "text/plain": "[tensor([[ 1.3407,  1.8264],\n         [ 0.8252, -0.1075],\n         [-2.7580, -0.6455],\n         [ 0.5279, -0.8532],\n         [-1.3662,  1.6424],\n         [-0.8348, -0.6766],\n         [ 2.3840,  0.1101],\n         [ 0.2971, -0.5684],\n         [ 0.3665, -0.1730],\n         [ 0.2870, -0.5667]]),\n tensor([[ 0.6715],\n         [ 6.2070],\n         [ 0.8928],\n         [ 8.1424],\n         [-4.1080],\n         [ 4.8605],\n         [ 8.5942],\n         [ 6.7329],\n         [ 5.5190],\n         [ 6.7046]])]"
     },
     "execution_count": 23,
     "metadata": {},
     "output_type": "execute_result"
    }
   ],
   "source": [
    "next(iter(data_iter))"
   ],
   "metadata": {
    "collapsed": false,
    "ExecuteTime": {
     "end_time": "2023-11-16T07:40:55.792522200Z",
     "start_time": "2023-11-16T07:40:55.716946300Z"
    }
   },
   "id": "e18282aad022b913"
  },
  {
   "cell_type": "markdown",
   "source": [
    "# 定义模型"
   ],
   "metadata": {
    "collapsed": false
   },
   "id": "c009347eccb3adab"
  },
  {
   "cell_type": "code",
   "execution_count": 24,
   "outputs": [],
   "source": [
    "# nn: neural network\n",
    "from torch import nn\n",
    "\n",
    "net = nn.Sequential(nn.Linear(2, 1))"
   ],
   "metadata": {
    "collapsed": false,
    "ExecuteTime": {
     "end_time": "2023-11-16T07:40:55.792522200Z",
     "start_time": "2023-11-16T07:40:55.733944100Z"
    }
   },
   "id": "179e2c52b16fd044"
  },
  {
   "cell_type": "markdown",
   "source": [
    "# 初始化参数"
   ],
   "metadata": {
    "collapsed": false
   },
   "id": "7ae81294cb18eddb"
  },
  {
   "cell_type": "code",
   "execution_count": 25,
   "outputs": [
    {
     "data": {
      "text/plain": "tensor([0.])"
     },
     "execution_count": 25,
     "metadata": {},
     "output_type": "execute_result"
    }
   ],
   "source": [
    "net[0].weight.data.normal_(0, 0.01)\n",
    "net[0].bias.data.fill_(0)"
   ],
   "metadata": {
    "collapsed": false,
    "ExecuteTime": {
     "end_time": "2023-11-16T07:40:55.793522200Z",
     "start_time": "2023-11-16T07:40:55.748521600Z"
    }
   },
   "id": "1c94569f1a963e28"
  },
  {
   "cell_type": "markdown",
   "source": [
    "# 定义损失函数"
   ],
   "metadata": {
    "collapsed": false
   },
   "id": "ea57d9edf72e43b"
  },
  {
   "cell_type": "code",
   "execution_count": 26,
   "outputs": [],
   "source": [
    "loss = nn.MSELoss()"
   ],
   "metadata": {
    "collapsed": false,
    "ExecuteTime": {
     "end_time": "2023-11-16T07:40:55.793522200Z",
     "start_time": "2023-11-16T07:40:55.763522400Z"
    }
   },
   "id": "9a8b6116a1aba3e9"
  },
  {
   "cell_type": "markdown",
   "source": [
    "# 定义优化器"
   ],
   "metadata": {
    "collapsed": false
   },
   "id": "db10ddb720f41b0b"
  },
  {
   "cell_type": "code",
   "execution_count": 27,
   "outputs": [],
   "source": [
    "# trainer = torch.optim.SGD(net.parameters(), lr=0.03)\n",
    "trainer = torch.optim.Adam(net.parameters(), lr=0.03)"
   ],
   "metadata": {
    "collapsed": false,
    "ExecuteTime": {
     "end_time": "2023-11-16T07:40:55.810790700Z",
     "start_time": "2023-11-16T07:40:55.779524200Z"
    }
   },
   "id": "6e0d4117e60c33fd"
  },
  {
   "cell_type": "markdown",
   "source": [
    "# 训练"
   ],
   "metadata": {
    "collapsed": false
   },
   "id": "d923daa69fea02dc"
  },
  {
   "cell_type": "code",
   "execution_count": 28,
   "outputs": [
    {
     "name": "stdout",
     "output_type": "stream",
     "text": [
      "epoch 1, loss 4.677643\n",
      "epoch 2, loss 0.259807\n",
      "epoch 3, loss 0.005812\n",
      "epoch 4, loss 0.000140\n",
      "epoch 5, loss 0.000097\n",
      "epoch 6, loss 0.000097\n",
      "epoch 7, loss 0.000097\n",
      "epoch 8, loss 0.000097\n",
      "epoch 9, loss 0.000097\n",
      "epoch 10, loss 0.000097\n"
     ]
    }
   ],
   "source": [
    "num_epochs = 10\n",
    "for epoch in range(num_epochs):\n",
    "    for X, y in data_iter:\n",
    "        l = loss(net(X) ,y)\n",
    "        trainer.zero_grad()\n",
    "        l.backward()\n",
    "        trainer.step()\n",
    "    l = loss(net(features), labels)\n",
    "    print(f'epoch {epoch + 1}, loss {l:f}')"
   ],
   "metadata": {
    "collapsed": false,
    "ExecuteTime": {
     "end_time": "2023-11-16T07:40:56.166408300Z",
     "start_time": "2023-11-16T07:40:55.796524500Z"
    }
   },
   "id": "4393b08148beb968"
  },
  {
   "cell_type": "code",
   "execution_count": 29,
   "outputs": [
    {
     "name": "stdout",
     "output_type": "stream",
     "text": [
      "w的估计误差： tensor([-0.0003,  0.0003])\n",
      "b的估计误差： tensor([-0.0002])\n"
     ]
    }
   ],
   "source": [
    "w = net[0].weight.data\n",
    "print('w的估计误差：', true_w - w.reshape(true_w.shape))\n",
    "b = net[0].bias.data\n",
    "print('b的估计误差：', true_b - b)"
   ],
   "metadata": {
    "collapsed": false,
    "ExecuteTime": {
     "end_time": "2023-11-16T07:40:56.227405900Z",
     "start_time": "2023-11-16T07:40:56.168406500Z"
    }
   },
   "id": "ba85f743e6147f4a"
  },
  {
   "cell_type": "code",
   "execution_count": 30,
   "outputs": [
    {
     "data": {
      "text/plain": "(tensor([[ 2.0003, -3.4003]]), tensor([4.2002]))"
     },
     "execution_count": 30,
     "metadata": {},
     "output_type": "execute_result"
    }
   ],
   "source": [
    "w, b"
   ],
   "metadata": {
    "collapsed": false,
    "ExecuteTime": {
     "end_time": "2023-11-16T07:40:56.239403900Z",
     "start_time": "2023-11-16T07:40:56.183406200Z"
    }
   },
   "id": "9a5269c60d62a191"
  },
  {
   "cell_type": "markdown",
   "source": [],
   "metadata": {
    "collapsed": false
   },
   "id": "131eae99b51507e"
  }
 ],
 "metadata": {
  "kernelspec": {
   "display_name": "Python 3",
   "language": "python",
   "name": "python3"
  },
  "language_info": {
   "codemirror_mode": {
    "name": "ipython",
    "version": 2
   },
   "file_extension": ".py",
   "mimetype": "text/x-python",
   "name": "python",
   "nbconvert_exporter": "python",
   "pygments_lexer": "ipython2",
   "version": "2.7.6"
  }
 },
 "nbformat": 4,
 "nbformat_minor": 5
}
