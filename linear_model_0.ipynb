{
 "cells": [
  {
   "cell_type": "code",
   "execution_count": 18,
   "id": "initial_id",
   "metadata": {
    "collapsed": true,
    "ExecuteTime": {
     "end_time": "2023-11-14T07:35:53.893789400Z",
     "start_time": "2023-11-14T07:35:53.817594600Z"
    }
   },
   "outputs": [],
   "source": [
    "import torch\n",
    "import numpy as np\n",
    "import pandas as pd\n",
    "import  random\n",
    "import matplotlib.pyplot as plt"
   ]
  },
  {
   "cell_type": "markdown",
   "source": [
    "# 自定义数据集"
   ],
   "metadata": {
    "collapsed": false
   },
   "id": "20df16fb8d4c4fd4"
  },
  {
   "cell_type": "code",
   "execution_count": 19,
   "outputs": [],
   "source": [
    "def synthetic_data(w, b, num_examples):  #@save\n",
    "    \"\"\"生成y=Xw+b+噪声\"\"\"\n",
    "    X = torch.normal(0, 1, (num_examples, len(w)))\n",
    "    y = torch.matmul(X, w) + b\n",
    "    y += torch.normal(0, 0.01, y.shape)\n",
    "    return X, y.reshape((-1, 1))\n",
    "\n",
    "true_w = torch.tensor([2, -3.4])\n",
    "true_b = 4.2\n",
    "features, labels = synthetic_data(true_w, true_b, 1000)"
   ],
   "metadata": {
    "collapsed": false,
    "ExecuteTime": {
     "end_time": "2023-11-14T07:35:53.970146400Z",
     "start_time": "2023-11-14T07:35:53.831640500Z"
    }
   },
   "id": "f80df640f67f1916"
  },
  {
   "cell_type": "code",
   "execution_count": 20,
   "outputs": [
    {
     "name": "stdout",
     "output_type": "stream",
     "text": [
      "features: tensor([-0.2710, -0.8688]) \n",
      "label: tensor([6.6099])\n"
     ]
    }
   ],
   "source": [
    "print('features:', features[0],'\\nlabel:', labels[0])"
   ],
   "metadata": {
    "collapsed": false,
    "ExecuteTime": {
     "end_time": "2023-11-14T07:35:54.007274600Z",
     "start_time": "2023-11-14T07:35:53.846164200Z"
    }
   },
   "id": "c46228b41a564836"
  },
  {
   "cell_type": "code",
   "execution_count": 21,
   "outputs": [
    {
     "data": {
      "text/plain": "<Figure size 360x216 with 1 Axes>",
      "image/png": "[encoded data removed]"
     },
     "metadata": {
      "needs_background": "light"
     },
     "output_type": "display_data"
    }
   ],
   "source": [
    "fig, ax = plt.subplots(figsize=(5, 3))\n",
    "plt.scatter(features[:, (1)].detach().numpy(), labels.detach().numpy(), 1);\n",
    "plt.scatter(features[:, (0)].detach().numpy(), labels.detach().numpy(), 1);"
   ],
   "metadata": {
    "collapsed": false,
    "ExecuteTime": {
     "end_time": "2023-11-14T07:35:54.061985600Z",
     "start_time": "2023-11-14T07:35:53.860198600Z"
    }
   },
   "id": "effa451d7b9a3807"
  },
  {
   "cell_type": "markdown",
   "source": [
    "# 读取数据集"
   ],
   "metadata": {
    "collapsed": false
   },
   "id": "1b2dc8ac2a36772"
  },
  {
   "cell_type": "code",
   "execution_count": 22,
   "outputs": [],
   "source": [
    "def data_iter(batch_size, features, labels):\n",
    "    num_examples = len(features)\n",
    "    indices = list(range(num_examples))\n",
    "    # 这些样本是随机读取的，没有特定的顺序\n",
    "    random.shuffle(indices)\n",
    "    for i in range(0, num_examples, batch_size):\n",
    "        batch_indices = torch.tensor(\n",
    "            indices[i: min(i + batch_size, num_examples)])\n",
    "        yield features[batch_indices], labels[batch_indices]"
   ],
   "metadata": {
    "collapsed": false,
    "ExecuteTime": {
     "end_time": "2023-11-14T07:35:54.080124Z",
     "start_time": "2023-11-14T07:35:54.005274200Z"
    }
   },
   "id": "4627a2d90519f4e9"
  },
  {
   "cell_type": "code",
   "execution_count": 23,
   "outputs": [
    {
     "name": "stdout",
     "output_type": "stream",
     "text": [
      "tensor([[-1.6304,  1.2771],\n",
      "        [ 0.0514,  0.3965],\n",
      "        [-0.5104,  0.4039],\n",
      "        [ 0.1585, -0.0396],\n",
      "        [-1.5831, -0.0318],\n",
      "        [ 0.3474,  0.9217],\n",
      "        [ 0.4974,  0.1073],\n",
      "        [ 0.9297,  0.9097],\n",
      "        [ 1.1626,  0.2200],\n",
      "        [ 0.0099,  0.3922]]) \n",
      " tensor([[-3.3906],\n",
      "        [ 2.9792],\n",
      "        [ 1.7953],\n",
      "        [ 4.6436],\n",
      "        [ 1.1319],\n",
      "        [ 1.7607],\n",
      "        [ 4.8214],\n",
      "        [ 2.9599],\n",
      "        [ 5.7707],\n",
      "        [ 2.8714]])\n"
     ]
    }
   ],
   "source": [
    "batch_size = 10\n",
    "\n",
    "for X, y in data_iter(batch_size, features, labels):\n",
    "    print(X, '\\n', y)\n",
    "    break"
   ],
   "metadata": {
    "collapsed": false,
    "ExecuteTime": {
     "end_time": "2023-11-14T07:35:54.081046400Z",
     "start_time": "2023-11-14T07:35:54.018811900Z"
    }
   },
   "id": "7272adf964836ac5"
  },
  {
   "cell_type": "markdown",
   "source": [
    "# 初始化参数"
   ],
   "metadata": {
    "collapsed": false
   },
   "id": "d471ca2cdb8d4506"
  },
  {
   "cell_type": "code",
   "execution_count": 24,
   "outputs": [],
   "source": [
    "w = torch.normal(0, 0.01, size=(2,1), requires_grad=True)\n",
    "b = torch.zeros(1, requires_grad=True)"
   ],
   "metadata": {
    "collapsed": false,
    "ExecuteTime": {
     "end_time": "2023-11-14T07:35:54.082046400Z",
     "start_time": "2023-11-14T07:35:54.034876800Z"
    }
   },
   "id": "2a378f1d73bde192"
  },
  {
   "cell_type": "markdown",
   "source": [
    "# 定义模型"
   ],
   "metadata": {
    "collapsed": false
   },
   "id": "7c1e92511c9e29e2"
  },
  {
   "cell_type": "code",
   "execution_count": 25,
   "outputs": [],
   "source": [
    "def linreg(X, w, b):  #@save\n",
    "    \"\"\"线性回归模型\"\"\"\n",
    "    return torch.matmul(X, w) + b"
   ],
   "metadata": {
    "collapsed": false,
    "ExecuteTime": {
     "end_time": "2023-11-14T07:35:54.083057800Z",
     "start_time": "2023-11-14T07:35:54.052470700Z"
    }
   },
   "id": "b99c631c8c736aaa"
  },
  {
   "cell_type": "markdown",
   "source": [
    "# 定义损失函数"
   ],
   "metadata": {
    "collapsed": false
   },
   "id": "dfa9c8cc66f439f3"
  },
  {
   "cell_type": "code",
   "execution_count": 26,
   "outputs": [],
   "source": [
    "def squared_loss(y_hat, y):  #@save\n",
    "    \"\"\"均方损失\"\"\"\n",
    "    return (y_hat - y.reshape(y_hat.shape)) ** 2 / 2"
   ],
   "metadata": {
    "collapsed": false,
    "ExecuteTime": {
     "end_time": "2023-11-14T07:35:54.098711700Z",
     "start_time": "2023-11-14T07:35:54.068993700Z"
    }
   },
   "id": "80e9e0bf3ba3fcd3"
  },
  {
   "cell_type": "markdown",
   "source": [
    "# 定义优化算法"
   ],
   "metadata": {
    "collapsed": false
   },
   "id": "da5822d91d906af1"
  },
  {
   "cell_type": "code",
   "execution_count": 27,
   "outputs": [],
   "source": [
    "def sgd(params, lr, batch_size):  #@save\n",
    "    \"\"\"小批量随机梯度下降\"\"\"\n",
    "    with torch.no_grad():\n",
    "        for param in params:\n",
    "            param -= lr * param.grad / batch_size\n",
    "            param.grad.zero_()"
   ],
   "metadata": {
    "collapsed": false,
    "ExecuteTime": {
     "end_time": "2023-11-14T07:35:54.193822900Z",
     "start_time": "2023-11-14T07:35:54.084055Z"
    }
   },
   "id": "ee67037935741899"
  },
  {
   "cell_type": "markdown",
   "source": [
    "# 训练"
   ],
   "metadata": {
    "collapsed": false
   },
   "id": "9fe40beab220a72e"
  },
  {
   "cell_type": "code",
   "execution_count": 28,
   "outputs": [
    {
     "name": "stdout",
     "output_type": "stream",
     "text": [
      "epoch 1, loss 0.034313\n",
      "epoch 2, loss 0.000115\n",
      "epoch 3, loss 0.000043\n"
     ]
    }
   ],
   "source": [
    "lr = 0.03\n",
    "num_epochs = 3\n",
    "net = linreg\n",
    "loss = squared_loss\n",
    "\n",
    "for epoch in range(num_epochs):\n",
    "    for X, y in data_iter(batch_size, features, labels):\n",
    "        l = loss(net(X, w, b), y)  # X和y的小批量损失\n",
    "        # 因为l形状是(batch_size,1)，而不是一个标量。l中的所有元素被加到一起，\n",
    "        # 并以此计算关于[w,b]的梯度\n",
    "        l.sum().backward()\n",
    "        sgd([w, b], lr, batch_size)  # 使用参数的梯度更新参数\n",
    "    with torch.no_grad():\n",
    "        train_l = loss(net(features, w, b), labels)\n",
    "        print(f'epoch {epoch + 1}, loss {float(train_l.mean()):f}')"
   ],
   "metadata": {
    "collapsed": false,
    "ExecuteTime": {
     "end_time": "2023-11-14T07:35:54.196819700Z",
     "start_time": "2023-11-14T07:35:54.099711900Z"
    }
   },
   "id": "629b504e2cdf950"
  },
  {
   "cell_type": "code",
   "execution_count": 29,
   "outputs": [
    {
     "data": {
      "text/plain": "(tensor([[ 2.0007],\n         [-3.4000]], requires_grad=True),\n tensor([4.1995], requires_grad=True))"
     },
     "execution_count": 29,
     "metadata": {},
     "output_type": "execute_result"
    }
   ],
   "source": [
    "w, b"
   ],
   "metadata": {
    "collapsed": false,
    "ExecuteTime": {
     "end_time": "2023-11-14T07:35:54.233995100Z",
     "start_time": "2023-11-14T07:35:54.191821100Z"
    }
   },
   "id": "9d9ec098d9f6f623"
  },
  {
   "cell_type": "code",
   "execution_count": 30,
   "outputs": [
    {
     "data": {
      "text/plain": "(tensor([ 2.0000, -3.4000]), 4.2)"
     },
     "execution_count": 30,
     "metadata": {},
     "output_type": "execute_result"
    }
   ],
   "source": [
    "true_w, true_b"
   ],
   "metadata": {
    "collapsed": false,
    "ExecuteTime": {
     "end_time": "2023-11-14T07:35:54.334384200Z",
     "start_time": "2023-11-14T07:35:54.207848200Z"
    }
   },
   "id": "e6fd0b2dad5b8ef8"
  },
  {
   "cell_type": "code",
   "execution_count": 31,
   "outputs": [
    {
     "name": "stdout",
     "output_type": "stream",
     "text": [
      "w的估计误差: tensor([-7.2432e-04,  1.2636e-05], grad_fn=<SubBackward0>)\n",
      "b的估计误差: tensor([0.0005], grad_fn=<RsubBackward1>)\n"
     ]
    }
   ],
   "source": [
    "print(f'w的估计误差: {true_w - w.reshape(true_w.shape)}')\n",
    "print(f'b的估计误差: {true_b - b}')"
   ],
   "metadata": {
    "collapsed": false,
    "ExecuteTime": {
     "end_time": "2023-11-14T07:35:54.346908500Z",
     "start_time": "2023-11-14T07:35:54.223455200Z"
    }
   },
   "id": "ac784f5ced61f8b3"
  }
 ],
 "metadata": {
  "kernelspec": {
   "display_name": "Python 3",
   "language": "python",
   "name": "python3"
  },
  "language_info": {
   "codemirror_mode": {
    "name": "ipython",
    "version": 2
   },
   "file_extension": ".py",
   "mimetype": "text/x-python",
   "name": "python",
   "nbconvert_exporter": "python",
   "pygments_lexer": "ipython2",
   "version": "2.7.6"
  }
 },
 "nbformat": 4,
 "nbformat_minor": 5
}
